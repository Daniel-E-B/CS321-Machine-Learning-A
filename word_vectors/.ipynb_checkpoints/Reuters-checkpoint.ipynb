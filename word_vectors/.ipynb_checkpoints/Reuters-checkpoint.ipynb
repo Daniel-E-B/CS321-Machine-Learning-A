{
 "cells": [
  {
   "cell_type": "code",
   "execution_count": 38,
   "metadata": {},
   "outputs": [],
   "source": [
    "from keras.models import Sequential\n",
    "from keras.layers import Embedding, Conv1D, Dense, Flatten\n",
    "from keras.datasets import reuters\n",
    "from gensim.models import word2vec\n",
    "import numpy\n",
    "(x_train, y_train), (x_test, y_test) = reuters.load_data(path=\"reuters.npz\", \n",
    "                                                         num_words=None, \n",
    "                                                         skip_top=0, \n",
    "                                                         maxlen=None, \n",
    "                                                         test_split=0.2, \n",
    "                                                         seed=113, \n",
    "                                                         start_char=1, \n",
    "                                                         oov_char=2, \n",
    "                                                         index_from=3)"
   ]
  },
  {
   "cell_type": "code",
   "execution_count": 11,
   "metadata": {},
   "outputs": [],
   "source": [
    "offset = 3\n",
    "reuters_map = dict((index + offset, word) for (word, index) in reuters.get_word_index().items())\n",
    "reuters_map[0] = 'PADDING'\n",
    "reuters_map[1] = 'START'\n",
    "reuters_map[2] = 'UNKNOWN'"
   ]
  },
  {
   "cell_type": "code",
   "execution_count": 12,
   "metadata": {},
   "outputs": [
    {
     "data": {
      "text/plain": [
       "'START mcgrath rentcorp said as a result of its december acquisition of space co it expects earnings per share in 1987 of 1 15 to 1 30 dlrs per share up from 70 cts in 1986 the company said pretax net should rise to nine to 10 mln dlrs from six mln dlrs in 1986 and rental operation revenues to 19 to 22 mln dlrs from 12 5 mln dlrs it said cash flow per share this year should be 2 50 to three dlrs reuter 3'"
      ]
     },
     "execution_count": 12,
     "metadata": {},
     "output_type": "execute_result"
    }
   ],
   "source": [
    "' '.join([reuters_map[word_index] for word_index in x_train[0]])"
   ]
  },
  {
   "cell_type": "code",
   "execution_count": 21,
   "metadata": {},
   "outputs": [],
   "source": [
    "train_sentences = [['PADDING'] + [reuters_map[word_index] for word_index in review] for review in x_train]\n",
    "test_sentences = [['PADDING'] + [reuters_map[word_index] for word_index in review] for review in x_test]\n",
    "# test_sentences"
   ]
  },
  {
   "cell_type": "code",
   "execution_count": 16,
   "metadata": {},
   "outputs": [],
   "source": [
    "reuters_wv_model = word2vec.Word2Vec(train_sentences + test_sentences + ['UNKNOWN'], min_count=1)"
   ]
  },
  {
   "cell_type": "code",
   "execution_count": 19,
   "metadata": {},
   "outputs": [
    {
     "data": {
      "text/plain": [
       "array([ 0.00047466, -0.01209502,  0.00511746, -0.02761546,  0.00877501,\n",
       "        0.00882131, -0.00302224, -0.01023681,  0.00069265, -0.00940508,\n",
       "        0.00669806,  0.01070337,  0.00157484,  0.00743781,  0.00440874,\n",
       "        0.04119754, -0.01997974,  0.00022846, -0.01385045, -0.01347616,\n",
       "        0.01381012,  0.02165364,  0.05029431,  0.00792547, -0.00144881,\n",
       "        0.03332239,  0.02038399, -0.01507462,  0.02599304,  0.01550889,\n",
       "        0.01179513,  0.00205972, -0.01331445, -0.00938397,  0.02161695,\n",
       "       -0.0232148 ,  0.02559957,  0.02826326,  0.00771353,  0.02987359,\n",
       "       -0.01721841,  0.03012494,  0.01141527, -0.01122399, -0.00490403,\n",
       "        0.01749288,  0.01441664, -0.00345776, -0.03578991,  0.00395014,\n",
       "       -0.02626677,  0.00398037,  0.00886727, -0.01310621,  0.00173385,\n",
       "       -0.01089446,  0.04150049, -0.01038958,  0.01093073, -0.00141662,\n",
       "       -0.00629575, -0.01702757,  0.00508912, -0.00068082,  0.02595225,\n",
       "       -0.01739266, -0.0164832 , -0.00300453, -0.00601622,  0.01396872,\n",
       "        0.00828543, -0.00384611, -0.01635146,  0.01276064,  0.02565072,\n",
       "        0.03528523, -0.00817218,  0.01616598, -0.0058682 , -0.01213254,\n",
       "        0.00927392,  0.00470192,  0.01432456,  0.03322595, -0.006548  ,\n",
       "        0.00530864,  0.00101164, -0.02177121, -0.015022  ,  0.00053765,\n",
       "       -0.00940638, -0.01858357, -0.03579127, -0.01208481,  0.00127906,\n",
       "        0.00750623, -0.00815504, -0.02095345,  0.0020292 , -0.00673172],\n",
       "      dtype=float32)"
      ]
     },
     "execution_count": 19,
     "metadata": {},
     "output_type": "execute_result"
    }
   ],
   "source": [
    "reuters_wordvec = reuters_wv_model.wv\n",
    "reuters_wv_model.wv.get_vector('snake')\n",
    "\n",
    "reuters_wv_model.wv.vectors # list of word vectors"
   ]
  },
  {
   "cell_type": "code",
   "execution_count": 24,
   "metadata": {},
   "outputs": [
    {
     "data": {
      "text/plain": [
       "(8982,)"
      ]
     },
     "execution_count": 24,
     "metadata": {},
     "output_type": "execute_result"
    }
   ],
   "source": []
  },
  {
   "cell_type": "code",
   "execution_count": 28,
   "metadata": {},
   "outputs": [
    {
     "name": "stdout",
     "output_type": "stream",
     "text": [
      "Longest review: 2376 Shortest review: 2\n"
     ]
    }
   ],
   "source": [
    "# shorten and pad\n",
    "lengths = [len(review) for review in x_train.tolist() + x_test.tolist()]\n",
    "print('Longest review: {} Shortest review: {}'.format(max(lengths), min(lengths)))"
   ]
  },
  {
   "cell_type": "code",
   "execution_count": 29,
   "metadata": {},
   "outputs": [
    {
     "name": "stdout",
     "output_type": "stream",
     "text": [
      "450 reviews out of 11228 are over 500.\n"
     ]
    }
   ],
   "source": [
    "cutoff = 500\n",
    "print('{} reviews out of {} are over {}.'.format(\n",
    "    sum([1 for length in lengths if length > cutoff]), \n",
    "    len(lengths), \n",
    "    cutoff))"
   ]
  },
  {
   "cell_type": "code",
   "execution_count": 32,
   "metadata": {},
   "outputs": [],
   "source": [
    "from keras.preprocessing import sequence\n",
    "x_train_padded = sequence.pad_sequences(x_train, maxlen=cutoff)\n",
    "x_test_padded = sequence.pad_sequences(x_test, maxlen=cutoff)"
   ]
  },
  {
   "cell_type": "code",
   "execution_count": 35,
   "metadata": {},
   "outputs": [],
   "source": [
    "model = Sequential()\n",
    "embedding_layer = reuters_wordvec.get_keras_embedding(train_embeddings=False)\n",
    "embedding_layer.input_length = cutoff"
   ]
  },
  {
   "cell_type": "code",
   "execution_count": 36,
   "metadata": {},
   "outputs": [],
   "source": [
    "model.add(embedding_layer)"
   ]
  },
  {
   "cell_type": "code",
   "execution_count": 39,
   "metadata": {},
   "outputs": [
    {
     "data": {
      "text/plain": [
       "array([ True,  True,  True,  True,  True,  True,  True,  True,  True,\n",
       "        True,  True,  True,  True,  True,  True,  True,  True,  True,\n",
       "        True,  True,  True,  True,  True,  True,  True,  True,  True,\n",
       "        True,  True,  True,  True,  True,  True,  True,  True,  True,\n",
       "        True,  True,  True,  True,  True,  True,  True,  True,  True,\n",
       "        True,  True,  True,  True,  True,  True,  True,  True,  True,\n",
       "        True,  True,  True,  True,  True,  True,  True,  True,  True,\n",
       "        True,  True,  True,  True,  True,  True,  True,  True,  True,\n",
       "        True,  True,  True,  True,  True,  True,  True,  True,  True,\n",
       "        True,  True,  True,  True,  True,  True,  True,  True,  True,\n",
       "        True,  True,  True,  True,  True,  True,  True,  True,  True,\n",
       "        True])"
      ]
     },
     "execution_count": 39,
     "metadata": {},
     "output_type": "execute_result"
    }
   ],
   "source": [
    "# verify that embedding layer works the same as regular wordvec\n",
    "model.predict(numpy.array([[reuters_wordvec.vocab[\"W\"].index]]))[0][0] == reuters_wordvec[\"W\"]"
   ]
  },
  {
   "cell_type": "code",
   "execution_count": null,
   "metadata": {},
   "outputs": [],
   "source": []
  }
 ],
 "metadata": {
  "kernelspec": {
   "display_name": "Python 3",
   "language": "python",
   "name": "python3"
  },
  "language_info": {
   "codemirror_mode": {
    "name": "ipython",
    "version": 3
   },
   "file_extension": ".py",
   "mimetype": "text/x-python",
   "name": "python",
   "nbconvert_exporter": "python",
   "pygments_lexer": "ipython3",
   "version": "3.6.8"
  }
 },
 "nbformat": 4,
 "nbformat_minor": 2
}
